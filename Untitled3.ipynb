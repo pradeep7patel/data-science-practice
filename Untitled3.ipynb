{
 "cells": [
  {
   "cell_type": "code",
   "execution_count": 1,
   "id": "f9842595",
   "metadata": {},
   "outputs": [],
   "source": [
    "di={'pradeep':35,'narayan':34,'neelam':23}"
   ]
  },
  {
   "cell_type": "code",
   "execution_count": 2,
   "id": "020a4b05",
   "metadata": {},
   "outputs": [
    {
     "name": "stdout",
     "output_type": "stream",
     "text": [
      "{'pradeep': 35, 'narayan': 34, 'neelam': 23}\n"
     ]
    }
   ],
   "source": [
    "print(di)"
   ]
  },
  {
   "cell_type": "code",
   "execution_count": 3,
   "id": "9aacf5b3",
   "metadata": {},
   "outputs": [
    {
     "data": {
      "text/plain": [
       "dict_keys(['pradeep', 'narayan', 'neelam'])"
      ]
     },
     "execution_count": 3,
     "metadata": {},
     "output_type": "execute_result"
    }
   ],
   "source": [
    "di.keys()"
   ]
  },
  {
   "cell_type": "code",
   "execution_count": 4,
   "id": "feaa0daf",
   "metadata": {},
   "outputs": [
    {
     "data": {
      "text/plain": [
       "dict_values([35, 34, 23])"
      ]
     },
     "execution_count": 4,
     "metadata": {},
     "output_type": "execute_result"
    }
   ],
   "source": [
    "di.values()"
   ]
  },
  {
   "cell_type": "code",
   "execution_count": 11,
   "id": "e1d9fde4",
   "metadata": {},
   "outputs": [
    {
     "ename": "TypeError",
     "evalue": "'int' object does not support item assignment",
     "output_type": "error",
     "traceback": [
      "\u001b[1;31m---------------------------------------------------------------------------\u001b[0m",
      "\u001b[1;31mTypeError\u001b[0m                                 Traceback (most recent call last)",
      "\u001b[1;32m~\\AppData\\Local\\Temp\\ipykernel_5712\\3458318089.py\u001b[0m in \u001b[0;36m<module>\u001b[1;34m\u001b[0m\n\u001b[1;32m----> 1\u001b[1;33m \u001b[0mdi\u001b[0m\u001b[1;33m[\u001b[0m\u001b[1;34m'neha'\u001b[0m\u001b[1;33m]\u001b[0m\u001b[1;33m=\u001b[0m\u001b[1;36m26\u001b[0m\u001b[1;33m\u001b[0m\u001b[1;33m\u001b[0m\u001b[0m\n\u001b[0m\u001b[0;32m      2\u001b[0m \u001b[0mdi\u001b[0m\u001b[1;33m\u001b[0m\u001b[1;33m\u001b[0m\u001b[0m\n",
      "\u001b[1;31mTypeError\u001b[0m: 'int' object does not support item assignment"
     ]
    }
   ],
   "source": [
    "di['neha']=26\n",
    "di"
   ]
  },
  {
   "cell_type": "code",
   "execution_count": 12,
   "id": "96a16ecb",
   "metadata": {},
   "outputs": [
    {
     "name": "stdout",
     "output_type": "stream",
     "text": [
      "25\n"
     ]
    }
   ],
   "source": [
    "print(di)"
   ]
  },
  {
   "cell_type": "code",
   "execution_count": 13,
   "id": "8f8ed58b",
   "metadata": {},
   "outputs": [],
   "source": [
    "d1={'pradeep':35,'narayan':34,'neelam':23}"
   ]
  },
  {
   "cell_type": "code",
   "execution_count": 14,
   "id": "2e850494",
   "metadata": {},
   "outputs": [
    {
     "name": "stdout",
     "output_type": "stream",
     "text": [
      "{'pradeep': 35, 'narayan': 34, 'neelam': 23}\n"
     ]
    }
   ],
   "source": [
    "print(d1)"
   ]
  },
  {
   "cell_type": "code",
   "execution_count": 15,
   "id": "acb7e4b7",
   "metadata": {},
   "outputs": [
    {
     "data": {
      "text/plain": [
       "{'pradeep': 35, 'narayan': 34, 'neelam': 23, 'neha': 26}"
      ]
     },
     "execution_count": 15,
     "metadata": {},
     "output_type": "execute_result"
    }
   ],
   "source": [
    "d1['neha']=26\n",
    "d1"
   ]
  },
  {
   "cell_type": "code",
   "execution_count": 16,
   "id": "0dfd05a5",
   "metadata": {},
   "outputs": [],
   "source": [
    "d1['pradeep']=36"
   ]
  },
  {
   "cell_type": "code",
   "execution_count": 17,
   "id": "7ee0223b",
   "metadata": {},
   "outputs": [
    {
     "name": "stdout",
     "output_type": "stream",
     "text": [
      "{'pradeep': 36, 'narayan': 34, 'neelam': 23, 'neha': 26}\n"
     ]
    }
   ],
   "source": [
    "print(d1)"
   ]
  },
  {
   "cell_type": "code",
   "execution_count": 18,
   "id": "42f4f4f6",
   "metadata": {},
   "outputs": [],
   "source": [
    "d1['manish']=36"
   ]
  },
  {
   "cell_type": "code",
   "execution_count": 19,
   "id": "977e323f",
   "metadata": {},
   "outputs": [
    {
     "name": "stdout",
     "output_type": "stream",
     "text": [
      "{'pradeep': 36, 'narayan': 34, 'neelam': 23, 'neha': 26, 'manish': 36}\n"
     ]
    }
   ],
   "source": [
    "print(d1)"
   ]
  },
  {
   "cell_type": "markdown",
   "id": "06b9a536",
   "metadata": {},
   "source": [
    "# Dictionary funcation"
   ]
  },
  {
   "cell_type": "markdown",
   "id": "676f19fd",
   "metadata": {},
   "source": [
    "# agr dictonary me kis bhi do dictonary ko add kar update nahi kiya jata jiske liy .updae ka upyog kiya jata hai "
   ]
  },
  {
   "cell_type": "code",
   "execution_count": 21,
   "id": "5ef96e6f",
   "metadata": {},
   "outputs": [],
   "source": [
    "D1={'apples':300,'banana':80,'gavea':250}"
   ]
  },
  {
   "cell_type": "code",
   "execution_count": 22,
   "id": "d3871fde",
   "metadata": {},
   "outputs": [
    {
     "name": "stdout",
     "output_type": "stream",
     "text": [
      "{'apples': 300, 'banana': 80, 'gavea': 250}\n"
     ]
    }
   ],
   "source": [
    "print(D1)"
   ]
  },
  {
   "cell_type": "code",
   "execution_count": 24,
   "id": "6a98c782",
   "metadata": {},
   "outputs": [],
   "source": [
    "D2={'oreng':200,'papaya':350}"
   ]
  },
  {
   "cell_type": "code",
   "execution_count": 26,
   "id": "f7861ec8",
   "metadata": {},
   "outputs": [],
   "source": [
    "D1.update(D2)"
   ]
  },
  {
   "cell_type": "code",
   "execution_count": 27,
   "id": "47cc6961",
   "metadata": {},
   "outputs": [
    {
     "name": "stdout",
     "output_type": "stream",
     "text": [
      "{'apples': 300, 'banana': 80, 'gavea': 250, 'oreng': 200, 'papaya': 350}\n"
     ]
    }
   ],
   "source": [
    "print(D1)"
   ]
  },
  {
   "cell_type": "markdown",
   "id": "27696331",
   "metadata": {},
   "source": [
    "#popping an elemant\n",
    "#is methed ka upyog kar ke ap kishi keys and values ko hataya ja sakta hai "
   ]
  },
  {
   "cell_type": "code",
   "execution_count": 28,
   "id": "c933f48c",
   "metadata": {},
   "outputs": [
    {
     "data": {
      "text/plain": [
       "80"
      ]
     },
     "execution_count": 28,
     "metadata": {},
     "output_type": "execute_result"
    }
   ],
   "source": [
    "D1.pop('banana')"
   ]
  },
  {
   "cell_type": "code",
   "execution_count": 29,
   "id": "42362116",
   "metadata": {},
   "outputs": [
    {
     "name": "stdout",
     "output_type": "stream",
     "text": [
      "{'apples': 300, 'gavea': 250, 'oreng': 200, 'papaya': 350}\n"
     ]
    }
   ],
   "source": [
    "print(D1)"
   ]
  },
  {
   "cell_type": "markdown",
   "id": "9c33eddc",
   "metadata": {},
   "source": [
    "# set duplication are not allowend in the set \n",
    "#set is an unorder and unindexed collection of elemant with {} ka upyog kiya jata hai "
   ]
  },
  {
   "cell_type": "code",
   "execution_count": 34,
   "id": "5b545f07",
   "metadata": {},
   "outputs": [],
   "source": [
    "s1={1,'a',True}"
   ]
  },
  {
   "cell_type": "code",
   "execution_count": 35,
   "id": "6efe2a27",
   "metadata": {},
   "outputs": [
    {
     "name": "stdout",
     "output_type": "stream",
     "text": [
      "{1, 'a'}\n"
     ]
    }
   ],
   "source": [
    "print(s1)"
   ]
  },
  {
   "cell_type": "markdown",
   "id": "61caa3f3",
   "metadata": {},
   "source": [
    "#set function \n",
    "# union of two set is ka upyog tp diffrent set ko add kiya jata hai ak  banaya jata hai"
   ]
  },
  {
   "cell_type": "code",
   "execution_count": 36,
   "id": "e89b2fb5",
   "metadata": {},
   "outputs": [
    {
     "ename": "SyntaxError",
     "evalue": "invalid syntax (3794949171.py, line 1)",
     "output_type": "error",
     "traceback": [
      "\u001b[1;36m  File \u001b[1;32m\"C:\\Users\\PRADEEP101\\AppData\\Local\\Temp\\ipykernel_5712\\3794949171.py\"\u001b[1;36m, line \u001b[1;32m1\u001b[0m\n\u001b[1;33m    s1{1,2,3,4,5}\u001b[0m\n\u001b[1;37m      ^\u001b[0m\n\u001b[1;31mSyntaxError\u001b[0m\u001b[1;31m:\u001b[0m invalid syntax\n"
     ]
    }
   ],
   "source": [
    "s1{1,2,3,4,5}\n",
    "\n"
   ]
  },
  {
   "cell_type": "code",
   "execution_count": 43,
   "id": "9db3b979",
   "metadata": {},
   "outputs": [
    {
     "name": "stdout",
     "output_type": "stream",
     "text": [
      "{1, 'a'}\n"
     ]
    }
   ],
   "source": [
    "print(s1)"
   ]
  },
  {
   "cell_type": "code",
   "execution_count": null,
   "id": "f2a8ff25",
   "metadata": {},
   "outputs": [],
   "source": []
  }
 ],
 "metadata": {
  "kernelspec": {
   "display_name": "Python 3 (ipykernel)",
   "language": "python",
   "name": "python3"
  },
  "language_info": {
   "codemirror_mode": {
    "name": "ipython",
    "version": 3
   },
   "file_extension": ".py",
   "mimetype": "text/x-python",
   "name": "python",
   "nbconvert_exporter": "python",
   "pygments_lexer": "ipython3",
   "version": "3.9.13"
  }
 },
 "nbformat": 4,
 "nbformat_minor": 5
}
